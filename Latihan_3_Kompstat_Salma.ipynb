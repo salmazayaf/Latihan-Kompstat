{
  "nbformat": 4,
  "nbformat_minor": 0,
  "metadata": {
    "colab": {
      "provenance": [],
      "authorship_tag": "ABX9TyPUJ7mYOlINKDLfhzaPejN5",
      "include_colab_link": true
    },
    "kernelspec": {
      "name": "python3",
      "display_name": "Python 3"
    },
    "language_info": {
      "name": "python"
    }
  },
  "cells": [
    {
      "cell_type": "markdown",
      "metadata": {
        "id": "view-in-github",
        "colab_type": "text"
      },
      "source": [
        "<a href=\"https://colab.research.google.com/github/salmazayaf/Latihan-Kompstat/blob/main/Latihan_3_Kompstat_Salma.ipynb\" target=\"_parent\"><img src=\"https://colab.research.google.com/assets/colab-badge.svg\" alt=\"Open In Colab\"/></a>"
      ]
    },
    {
      "cell_type": "markdown",
      "source": [
        "# Latihan 3 Komputasi Statistika\n",
        "\n",
        "# Random Number Generator"
      ],
      "metadata": {
        "id": "s-wwACS7TquN"
      }
    },
    {
      "cell_type": "markdown",
      "source": [
        "**Import Modules**"
      ],
      "metadata": {
        "id": "04823QCCV3jw"
      }
    },
    {
      "cell_type": "code",
      "execution_count": 1,
      "metadata": {
        "colab": {
          "base_uri": "https://localhost:8080/",
          "height": 36
        },
        "id": "nfU3XUykTmnS",
        "outputId": "b9f1fc50-ce0f-4a10-e467-1517c82fba6e"
      },
      "outputs": [
        {
          "output_type": "execute_result",
          "data": {
            "text/plain": [
              "'Done'"
            ],
            "application/vnd.google.colaboratory.intrinsic+json": {
              "type": "string"
            }
          },
          "metadata": {},
          "execution_count": 1
        }
      ],
      "source": [
        "# Importing Modules untuk Notebook ini\n",
        "import warnings; warnings.simplefilter('ignore')\n",
        "import matplotlib.pyplot as plt, seaborn as sns, numpy as np\n",
        "sns.set(style=\"ticks\", color_codes=True)\n",
        "\n",
        "\"Done\""
      ]
    },
    {
      "cell_type": "markdown",
      "source": [
        "# Soal 01: Multiplicative Congruential\n",
        "\n",
        "1. Buatlah sebuah fungsi pembangkit bilangan acak dengan fungsi Greenberger (Multiplicative congruential.) dengan ketentuan modifikasi sebagai berikut:\n",
        " * \tXo = 11, a=7, c=5, m = $2^{32}$\n",
        " * \tInput fungsi adalah $N$ (jumlah bilangan yang akan dibangkitkan)\n",
        " *\tOutput fungsi adalah sebuah skalar: rata-rata semua $N$ suku dibarisan yang dibangkitkan. \n",
        " *  Jangan lupa untuk menormalisasi semua sukunya dengan $m$.\n",
        "\n",
        "2. Jika $X = x_1, x_2, ..., x_N$ adalah barisan $N$ output dari fungsi diatas, apakah distribusi dari $X$? Jelaskan.\n",
        "\n",
        "3. Apakah $X$ memiliki periode? jelaskan."
      ],
      "metadata": {
        "id": "Ldp1l_0GWGUf"
      }
    },
    {
      "cell_type": "code",
      "source": [
        "# No. 1\n",
        "\n",
        "def Greenberger_m2(xo = 11, m = 2**(32), a = 7, c = 5, seed = 11, size = 1):\n",
        "    tot_U = np.zeros(size)\n",
        "    U = np.zeros(size)\n",
        "    x = (a*xo+c)%m\n",
        "    U[0] = x/m\n",
        "    for i in range(1,size):\n",
        "        x = (x*xo+1)%m\n",
        "        U[i] = x/m\n",
        "        tot_U += U[i]\n",
        "    tot_U2 = tot_U/size\n",
        "    new_tot_U = tot_U2[0]\n",
        "    return new_tot_U\n",
        "\n",
        "#Contoh Pemakaian\n",
        "Greenberger_m2(size=20)"
      ],
      "metadata": {
        "colab": {
          "base_uri": "https://localhost:8080/"
        },
        "id": "dATnhT2nWAVv",
        "outputId": "0762f084-1175-42c4-e367-1f40ae6fec3e"
      },
      "execution_count": 3,
      "outputs": [
        {
          "output_type": "execute_result",
          "data": {
            "text/plain": [
              "0.2661887637339532"
            ]
          },
          "metadata": {},
          "execution_count": 3
        }
      ]
    },
    {
      "cell_type": "code",
      "source": [
        "# No. 2\n",
        "\n",
        "# Membuat grafik dari distribusi Multiplicative Congruential untuk melihat \n",
        "def Greenberger_m(xo = 11, m = 2**32, a = 7, c = 5, seed = 11, size = 1):\n",
        "    U = np.zeros(size)\n",
        "    x = (a*xo+c)%m\n",
        "    U[0] = x/m\n",
        "    for i in range(1,size):\n",
        "        x = (x*xo+1)%m\n",
        "        U[i] = x/m\n",
        "    return U\n",
        "\n",
        "Greenberger_m(size=20)"
      ],
      "metadata": {
        "colab": {
          "base_uri": "https://localhost:8080/"
        },
        "id": "nAE20e8FWVUe",
        "outputId": "b7cde4c4-2e72-4002-dd24-0c49ab592cd1"
      },
      "execution_count": 4,
      "outputs": [
        {
          "output_type": "execute_result",
          "data": {
            "text/plain": [
              "array([1.90921128e-08, 2.10246071e-07, 2.31293961e-06, 2.54425686e-05,\n",
              "       2.79868487e-04, 3.07855359e-03, 3.38640898e-02, 3.72504988e-01,\n",
              "       9.75548630e-02, 7.31034928e-02, 8.04138422e-01, 8.45522637e-01,\n",
              "       3.00749010e-01, 3.08239110e-01, 3.90630206e-01, 2.96932262e-01,\n",
              "       2.66254884e-01, 9.28803721e-01, 2.16840934e-01, 3.85250269e-01])"
            ]
          },
          "metadata": {},
          "execution_count": 4
        }
      ]
    },
    {
      "cell_type": "code",
      "source": [
        "X = Greenberger_m(size=10**6)\n",
        "plot = sns.displot(x=X, kde=True)\n",
        "\n",
        "#Distribusi uniform \n",
        "# X memiliki periode tetapi terlalu panjang untuk dilihat."
      ],
      "metadata": {
        "colab": {
          "base_uri": "https://localhost:8080/",
          "height": 365
        },
        "id": "z_hRV_QQWavp",
        "outputId": "c12241c7-65fd-4f64-f83e-e780bed2e9cb"
      },
      "execution_count": 5,
      "outputs": [
        {
          "output_type": "display_data",
          "data": {
            "text/plain": [
              "<Figure size 360x360 with 1 Axes>"
            ],
            "image/png": "[encoded data removed]"
          },
          "metadata": {}
        }
      ]
    },
    {
      "cell_type": "markdown",
      "source": [
        "# Soal 02: Poisson Distribution\n",
        "\n",
        "* Algoritma untuk menghasilkan bilangan random diskrit berdistribusi Poisson dapat anda temukan dari beberapa sumber di dunia maya: https://www.google.com/search?q=algorithm+generate+poisson+distribution&newwindow=1&sxsrf=ALiCzsbKw0SJtuLmaOS3B9XNVrTNtbeuXw:1665702878239&source=lnms&tbm=isch&sa=X&ved=2ahUKEwixjO_iqt76AhXpcGwGHavxB88Q_AUoAXoECAEQAw#imgrc=pnIy3d_qBdlPnM \n",
        "\n",
        "1. Aplikasikan algoritma tersebut dengan bahasa Python (tanpa menggunakan module : Pure Python).\n",
        "\n",
        "2. Bandingkan hasil anda (melalui visualisasi) dengan distribusi Python yang dihasilkan oleh Numpy menggunakan 100.000 sample.\n",
        " - https://numpy.org/doc/stable/reference/random/generated/numpy.random.poisson.html\n"
      ],
      "metadata": {
        "id": "4yrT8BekWePW"
      }
    },
    {
      "cell_type": "code",
      "source": [
        "from numpy import random\n",
        "from random import seed\n",
        "from tqdm import tqdm\n",
        "import matplotlib.pyplot as plt\n",
        "import seaborn as sns"
      ],
      "metadata": {
        "id": "9_8XkZDgWh7D"
      },
      "execution_count": 6,
      "outputs": []
    },
    {
      "cell_type": "code",
      "source": [
        "def RNPoisson(lam):\n",
        "  elem = np.exp(-lam)\n",
        "  n = 0\n",
        "  pp = elem\n",
        "  u = np.random.uniform(0,1)\n",
        "  fact = 1\n",
        "  pow = 1\n",
        "  while u > pp:\n",
        "    n=n+1\n",
        "    fact, pow=n*fact, lam*pow\n",
        "    pp=pp+(pow/fact)*elem\n",
        "  return n\n",
        "\n",
        "  # Sumber https://www.youtube.com/watch?v=Asto3RS46ks"
      ],
      "metadata": {
        "id": "GluPFf_XWmcs"
      },
      "execution_count": 7,
      "outputs": []
    },
    {
      "cell_type": "code",
      "source": [
        "seed(1)\n",
        "A = random.poisson(lam=10, size=10)\n",
        "S = 10\n",
        "L = 10\n",
        "X = np.zeros(L)\n",
        "\n",
        "for (i,x) in tqdm(enumerate(X)):\n",
        "    X[i] = np.sum(RNPoisson(S))\n",
        "\n",
        "B = X[:L]  #Definisikan hasil fungsi ke dalam variabel baru\n",
        "\n",
        "plot = sns.displot(x=B, kde=True)\n",
        "plt.title('Distribusi Poisson dengan module python', size=16)\n",
        "plot = sns.displot(x=A, kde=True)\n",
        "plt.title('Distribusi Poisson tanpa menggunakan module: pure python', size=16)"
      ],
      "metadata": {
        "colab": {
          "base_uri": "https://localhost:8080/",
          "height": 784
        },
        "id": "sDUvGhI-WpXE",
        "outputId": "a685428f-2164-4cad-b3b3-230afaf8d915"
      },
      "execution_count": 8,
      "outputs": [
        {
          "output_type": "stream",
          "name": "stderr",
          "text": [
            "10it [00:00, 22063.67it/s]\n"
          ]
        },
        {
          "output_type": "execute_result",
          "data": {
            "text/plain": [
              "Text(0.5, 1.0, 'Distribusi Poisson tanpa menggunakan module: pure python')"
            ]
          },
          "metadata": {},
          "execution_count": 8
        },
        {
          "output_type": "display_data",
          "data": {
            "text/plain": [
              "<Figure size 360x360 with 1 Axes>"
            ],
            "image/png": "[encoded data removed]"
          },
          "metadata": {}
        },
        {
          "output_type": "display_data",
          "data": {
            "text/plain": [
              "<Figure size 360x360 with 1 Axes>"
            ],
            "image/png": "[encoded data removed]"
          },
          "metadata": {}
        }
      ]
    },
    {
      "cell_type": "markdown",
      "source": [
        "**Kesimpulan**\n",
        "\n",
        "Pada pengerjaan di atas, digunakan lambda = 10 dan size = 10. \n",
        "Terlihat bahwa kedua hasil random distribusi poisson antara yang menggunakan module pure python dan tidak menggunakan module pure python menghasilkan output yang memiliki kemiripan (hampir sama)."
      ],
      "metadata": {
        "id": "AciBDkTwWzav"
      }
    },
    {
      "cell_type": "markdown",
      "source": [
        "# Soal 03: CRUDE MONTE CARLO\n",
        "\n",
        "* Di Module RNG minggu lalu sudah dibahas tentang Hit-or-Miss Monte Carlo untuk penyelesaian pendekatan dari sebuah integral. Namun Metode Crude Monte Carlo belum dibahas. Keterangan Metode Crude Monte Carlo adalah sebagai berikut:\n",
        "\n",
        "<img alt=\"\" src=\"https://github.com/taudataid/KompStat-CaseStudies/blob/main/images/crude-MC.png?raw=1\"/>\n",
        "\n",
        "* Atau anda juga bisa membaca lebih lanjut di tautan berikut: https://www.google.com/search?q=%22Crude+monte+carlo%22+integral&oq=%22Crude+monte+carlo%22+integral&aqs=edge..69i57.8774j0j1&sourceid=chrome&ie=UTF-8\n",
        "\n",
        "* Menggunakan fungsi yang sama dengan yang ada di module kuliah $$\\theta = \\int_0^1 \\frac{e^x-1}{e-1} dx$$\n",
        "Tentukan:\n",
        "1. Solusi Pendekatannya menggunakan Crude MC dengan N = 100\n",
        "2. Bandingkan hasil pendekatan anda dengan solusi eksak dan solusi hit-or-miss\n",
        "3. Buatlah selang kepercayaan 95% dari solusi MC ini."
      ],
      "metadata": {
        "id": "cx34DjL4W4vh"
      }
    },
    {
      "cell_type": "code",
      "source": [
        "# Pertama, kita Import Modules untuk Notebook ini\n",
        "import warnings; warnings.simplefilter('ignore')\n",
        "import matplotlib.pyplot as plt, seaborn as sns, numpy as np\n",
        "sns.set(style=\"ticks\", color_codes=True)\n",
        "\n",
        "\"Done\""
      ],
      "metadata": {
        "colab": {
          "base_uri": "https://localhost:8080/",
          "height": 36
        },
        "id": "N5ly_1QnXA4Q",
        "outputId": "31c6b49a-c579-4475-9afd-8b645cc76766"
      },
      "execution_count": 9,
      "outputs": [
        {
          "output_type": "execute_result",
          "data": {
            "text/plain": [
              "'Done'"
            ],
            "application/vnd.google.colaboratory.intrinsic+json": {
              "type": "string"
            }
          },
          "metadata": {},
          "execution_count": 9
        }
      ]
    },
    {
      "cell_type": "code",
      "source": [
        "x = np.linspace(0, 1, 100)\n",
        "def f(x):\n",
        "    return (np.exp(x)-1)/(np.exp(1)-1)\n",
        "plt.plot(x, f(x));\n",
        "pts = np.random.uniform(0,1,(100, 2))\n",
        "pts[:, 1] *= np.e\n",
        "plt.scatter(pts[:, 0], pts[:, 1])\n",
        "plt.xlim([0,1])\n",
        "plt.ylim([0, np.e]);"
      ],
      "metadata": {
        "colab": {
          "base_uri": "https://localhost:8080/",
          "height": 268
        },
        "id": "ySF1Yz2ZXG_b",
        "outputId": "ed25c843-af60-44a7-dcc8-e9d17d8ee90f"
      },
      "execution_count": 10,
      "outputs": [
        {
          "output_type": "display_data",
          "data": {
            "text/plain": [
              "<Figure size 432x288 with 1 Axes>"
            ],
            "image/png": "[encoded data removed]"
          },
          "metadata": {}
        }
      ]
    },
    {
      "cell_type": "markdown",
      "source": [
        "**Mencari solusi eksak**"
      ],
      "metadata": {
        "id": "Fsv1Cg3ZXJvu"
      }
    },
    {
      "cell_type": "code",
      "source": [
        "# Check analytic solution\n",
        "\n",
        "from sympy import symbols, integrate, exp\n",
        "\n",
        "x = symbols('x')\n",
        "expr = integrate((exp(x)-1)/(exp(1)-1), (x,0,1))\n",
        "expr.evalf()"
      ],
      "metadata": {
        "colab": {
          "base_uri": "https://localhost:8080/",
          "height": 37
        },
        "id": "9VNBa33kXNWO",
        "outputId": "979ef071-5c4b-47e2-a3d3-d59f97e62143"
      },
      "execution_count": 11,
      "outputs": [
        {
          "output_type": "execute_result",
          "data": {
            "text/plain": [
              "0.418023293130674"
            ],
            "text/latex": "$\\displaystyle 0.418023293130674$"
          },
          "metadata": {},
          "execution_count": 11
        }
      ]
    },
    {
      "cell_type": "markdown",
      "source": [
        "**Monte Carlo**"
      ],
      "metadata": {
        "id": "wsDIp0y3XO19"
      }
    },
    {
      "cell_type": "code",
      "source": [
        "# importing the modules\n",
        "from scipy import random\n",
        "import numpy as np\n",
        "\n",
        "# limits of integration\n",
        "a = 0\n",
        "b = 1\n",
        "N = 100\n",
        "\n",
        "# array of zeros of length N\n",
        "ar = np.zeros(N)\n",
        "\n",
        "# iterating over each Value of ar and filling\n",
        "# it with a random value between the limits a\n",
        "# and b\n",
        "for i in range (len(ar)):\n",
        "\tar[i] = random.uniform(a,b)\n",
        "\n",
        "# variable to store sum of the functions of\n",
        "# different values of x\n",
        "integral = 0.0\n",
        "\n",
        "# function to calculate the sin of a particular\n",
        "# value of x\n",
        "def f(x):\n",
        "    return (np.exp(x)-1)/(np.exp(1)-1)\n",
        "\n",
        "# iterates and sums up values of different functions\n",
        "# of x\n",
        "for i in ar:\n",
        "\tintegral += f(i)\n",
        "\n",
        "# we get the answer by the formula derived adobe\n",
        "ans = (b-a)/float(N)*integral\n",
        "\n",
        "# prints the solution\n",
        "print (\"Hasil perhitungan dengan integrasi monte carlo adalah {}.\".format(ans))"
      ],
      "metadata": {
        "colab": {
          "base_uri": "https://localhost:8080/"
        },
        "id": "k7YReis6XFi5",
        "outputId": "a6be9d7a-013e-43c7-ac8f-107af3b98051"
      },
      "execution_count": 12,
      "outputs": [
        {
          "output_type": "stream",
          "name": "stdout",
          "text": [
            "Hasil perhitungan dengan integrasi monte carlo adalah 0.44215982823239786.\n"
          ]
        }
      ]
    },
    {
      "cell_type": "code",
      "source": [
        "# seed the pseudorandom number generator\n",
        "from numpy.random import seed\n",
        "from numpy.random import rand\n",
        "\n",
        "seed(1)\n",
        "print(rand(3))\n",
        "seed(7)\n",
        "print(rand(3))\n",
        "seed(7)\n",
        "print(rand(3))"
      ],
      "metadata": {
        "colab": {
          "base_uri": "https://localhost:8080/"
        },
        "id": "S8XIbcAFXYa-",
        "outputId": "72d6073b-cd01-4760-8751-d63259af674f"
      },
      "execution_count": 13,
      "outputs": [
        {
          "output_type": "stream",
          "name": "stdout",
          "text": [
            "[4.17022005e-01 7.20324493e-01 1.14374817e-04]\n",
            "[0.07630829 0.77991879 0.43840923]\n",
            "[0.07630829 0.77991879 0.43840923]\n"
          ]
        }
      ]
    },
    {
      "cell_type": "code",
      "source": [
        "def f(x):\n",
        "    return (np.exp(x)-1)/(np.exp(1)-1)\n",
        "\n",
        "seed(1)\n",
        "\n",
        "N=100\n",
        "teta = 0.418\n",
        "sigma = 0.286 #Solusi Eksak teta dan sigma didapatkan dari modul\n",
        "xrand = rand(N)\n",
        "yrand = rand(N) # Random Uniform x dan y\n",
        "print('$$$ Hit or Miss Monte Carlo $$$') # Hit or Miss Monte Carlo\n",
        "\n",
        "fxrand=f(xrand)\n",
        "CheckValue = fxrand>=yrand\n",
        "Hit_or_Miss=sum(CheckValue)/N\n",
        "\n",
        "print('Hasil Approksimasi = ', Hit_or_Miss)\n",
        "print('Error = ', abs(teta-Hit_or_Miss))\n",
        "print('Standar Error = ', np.sqrt(teta*(1-teta)/N))\n",
        "print('Aproksimasi Error = ', np.sqrt(Hit_or_Miss*(1-Hit_or_Miss)/N))\n",
        "print('Confidence Interval 95% = ', Hit_or_Miss, ' +/- ', 2*np.sqrt(Hit_or_Miss*(1-Hit_or_Miss)/N))"
      ],
      "metadata": {
        "colab": {
          "base_uri": "https://localhost:8080/"
        },
        "id": "Hb6AMjT0Xchs",
        "outputId": "ea27ace7-66a2-4baf-c1a9-95d29bc7c774"
      },
      "execution_count": 14,
      "outputs": [
        {
          "output_type": "stream",
          "name": "stdout",
          "text": [
            "$$$ Hit or Miss Monte Carlo $$$\n",
            "Hasil Approksimasi =  0.43\n",
            "Error =  0.01200000000000001\n",
            "Standar Error =  0.049323016939356014\n",
            "Aproksimasi Error =  0.04950757517794625\n",
            "Confidence Interval 95% =  0.43  +/-  0.0990151503558925\n"
          ]
        }
      ]
    },
    {
      "cell_type": "markdown",
      "source": [
        "**Kesimpulan**\n",
        "\n",
        "- Solusi hasil approksimasi dengan menggunakan metode Hit or Miss ialah 0,43.\n",
        "- Kita dapatkan solusi eksaknya 0,418023293130674, tetapi jika dalam soal tidak diberi tahu, kita bisa mengetahui hasil solusi eksaknya melalui estimasi error yang didapatkan, yakni 0,01200000000000001.\n",
        "- Untuk selang kepercayaan 95%, hasil dari solusi MC tersebut adalah 0.43  +/-  0.0990151503558925"
      ],
      "metadata": {
        "id": "lSAAui_NXer3"
      }
    },
    {
      "cell_type": "code",
      "source": [],
      "metadata": {
        "id": "jTmL_u6hXjH9"
      },
      "execution_count": null,
      "outputs": []
    }
  ]
}